{
 "cells": [
  {
   "cell_type": "code",
   "execution_count": null,
   "metadata": {},
   "outputs": [],
   "source": [
    "import numpy as np\n",
    "import torch\n",
    "import torch.nn as nn\n",
    "import torch.optim as optim\n",
    "import torchvision\n",
    "from torch.utils.data import DataLoader\n",
    "from torchvision import datasets, transforms\n",
    "from torchsummary import summary  # Denne er fin for å printe ut informasjon om PyTorch-modeller\n",
    "import matplotlib.pyplot as plt\n",
    "from collections import Counter\n",
    "from code_base.functions import train, train_models, select_best_model, evaluate_performance\n",
    "from code_base.models import TestNet, LeNetVariant, ObjectDetect_2x3\n",
    "from code_base.DataAnalysis import DataAnalysis\n",
    "from code_base.object_detection import plot_instances, get_converted_data"
   ]
  },
  {
   "cell_type": "code",
   "execution_count": null,
   "metadata": {},
   "outputs": [],
   "source": [
    "SEED = 265\n",
    "torch.manual_seed(SEED)\n",
    "\n",
    "DEVICE = (torch.device('cuda') if torch.cuda.is_available() else torch.device('cpu'))\n",
    "print(f\"Using device: {DEVICE}\")"
   ]
  },
  {
   "cell_type": "markdown",
   "metadata": {},
   "source": [
    "# Object Localization"
   ]
  },
  {
   "cell_type": "markdown",
   "metadata": {},
   "source": [
    "## Data exploration"
   ]
  },
  {
   "cell_type": "code",
   "execution_count": null,
   "metadata": {},
   "outputs": [],
   "source": [
    "# Loading the data as PyTorch Tensor Dataset\n",
    "data_train = torch.load(\"data/localization_train.pt\")\n",
    "data_val = torch.load(\"data/localization_val.pt\")\n",
    "data_test = torch.load(\"data/localization_test.pt\")\n",
    "print(\"Type: \", type(data_train))"
   ]
  },
  {
   "cell_type": "code",
   "execution_count": null,
   "metadata": {},
   "outputs": [],
   "source": [
    "DataAnalysis.get_summary(data_train)"
   ]
  },
  {
   "cell_type": "code",
   "execution_count": null,
   "metadata": {},
   "outputs": [],
   "source": [
    "DataAnalysis.get_summary(data_val)"
   ]
  },
  {
   "cell_type": "code",
   "execution_count": null,
   "metadata": {},
   "outputs": [],
   "source": [
    "DataAnalysis.get_summary(data_test)"
   ]
  },
  {
   "cell_type": "code",
   "execution_count": null,
   "metadata": {},
   "outputs": [],
   "source": [
    "# Display 4 instances of each class\n",
    "n_classes = len(Counter([int(label[-1]) for _, label in data_train]))\n",
    "for i in range(n_classes):\n",
    "    DataAnalysis.plot_instances_with_bounding_box(data_train, i, n_instances=4)\n",
    "# No class\n",
    "DataAnalysis.plot_instances_with_bounding_box(data_train, None, n_instances=4)"
   ]
  },
  {
   "cell_type": "markdown",
   "metadata": {},
   "source": [
    "## Training"
   ]
  },
  {
   "cell_type": "code",
   "execution_count": null,
   "metadata": {},
   "outputs": [],
   "source": [
    "# Normalize from training data\n",
    "imgs = torch.stack([img for img, _ in data_train])\n",
    "\n",
    "# Define normalizer\n",
    "normalizer = transforms.Normalize(\n",
    "    imgs.mean(dim=(0, 2, 3)), \n",
    "    imgs.std(dim=(0, 2, 3))\n",
    "    )\n",
    "\n",
    "data_train_norm = [(normalizer(img), label) for img, label in data_train]\n",
    "data_val_norm = [(normalizer(img), label) for img, label in data_val]\n",
    "data_test_norm = [(normalizer(img), label) for img, label in data_test]"
   ]
  },
  {
   "cell_type": "code",
   "execution_count": null,
   "metadata": {},
   "outputs": [],
   "source": [
    "batch_size = 32\n",
    "train_loader = DataLoader(data_train_norm, batch_size=batch_size, shuffle=False)\n",
    "val_loader = DataLoader(data_val_norm, batch_size=batch_size, shuffle=False)"
   ]
  },
  {
   "cell_type": "code",
   "execution_count": null,
   "metadata": {},
   "outputs": [],
   "source": [
    "epochs = 15\n",
    "networks = [TestNet]\n",
    "\n",
    "hyper_parameters = [\n",
    "    {\"lr\": 0.001, \"weight_decay\": 0.0, \"momentum\": 0.0},\n",
    "    # {\"lr\": 0.01, \"weight_decay\": 0.01, \"momentum\": 0.0},\n",
    "    # {\"lr\": 0.01, \"weight_decay\": 0.9, \"momentum\": 0.0},\n",
    "]"
   ]
  },
  {
   "cell_type": "code",
   "execution_count": null,
   "metadata": {},
   "outputs": [],
   "source": [
    "trained_models, train_performances, val_performances, train_losses, val_losses = train_models(\n",
    "    \"localization\",\n",
    "    networks,\n",
    "    hyper_parameters,\n",
    "    batch_size,\n",
    "    epochs,\n",
    "    train_loader,\n",
    "    val_loader,\n",
    "    DEVICE,\n",
    "    SEED)"
   ]
  },
  {
   "cell_type": "code",
   "execution_count": null,
   "metadata": {},
   "outputs": [],
   "source": [
    "best_model, best_model_idx = select_best_model(trained_models, val_performances)\n",
    "print(best_model)"
   ]
  },
  {
   "cell_type": "code",
   "execution_count": null,
   "metadata": {},
   "outputs": [],
   "source": [
    "best_model_train_loss = train_losses[best_model_idx]\n",
    "best_model_val_loss = val_losses[best_model_idx]\n",
    "best_model_train_performance = train_performances[best_model_idx]\n",
    "best_model_val_performance = val_performances[best_model_idx]\n",
    "DataAnalysis.plot_performance_over_time(best_model_train_loss, best_model_val_loss, \"Training vs val loss\")"
   ]
  },
  {
   "cell_type": "code",
   "execution_count": null,
   "metadata": {},
   "outputs": [],
   "source": [
    "DataAnalysis.plot_performance_over_time(best_model_train_performance, best_model_val_performance, \"Training accuracy and validation accuracy over epochs\", \n",
    "                               label1=\"Training Accuracy\", label2=\"Validation Accuracy\")"
   ]
  },
  {
   "cell_type": "markdown",
   "metadata": {},
   "source": [
    "## Evaluation"
   ]
  },
  {
   "cell_type": "code",
   "execution_count": null,
   "metadata": {},
   "outputs": [],
   "source": [
    "test_loader = DataLoader(data_test_norm, batch_size=batch_size, shuffle=False)\n",
    "\n",
    "perf, output = evaluate_performance(\"localization\", best_model, test_loader, device=DEVICE)\n",
    "print(f\"Test performance: {perf*100:.2f}%\")"
   ]
  },
  {
   "cell_type": "code",
   "execution_count": null,
   "metadata": {},
   "outputs": [],
   "source": [
    "for i in range(10):\n",
    "    DataAnalysis.plot_instances_with_bounding_box(data_test, i, predictions=output)\n",
    "DataAnalysis.plot_instances_with_bounding_box(data_test, None, predictions=output)"
   ]
  },
  {
   "cell_type": "markdown",
   "metadata": {},
   "source": [
    "# Object Detection"
   ]
  },
  {
   "cell_type": "markdown",
   "metadata": {},
   "source": [
    "#### Imports and setup (again) \n",
    "Identical to the imports at the top, they are there simply to make running the object detection part easier."
   ]
  },
  {
   "cell_type": "code",
   "execution_count": null,
   "metadata": {},
   "outputs": [],
   "source": [
    "import numpy as np\n",
    "import torch\n",
    "import torch.nn as nn\n",
    "import torch.optim as optim\n",
    "import torchvision\n",
    "from torch.utils.data import DataLoader\n",
    "from torchvision import datasets, transforms\n",
    "from torchsummary import summary  # Denne er fin for å printe ut informasjon om PyTorch-modeller\n",
    "import matplotlib.pyplot as plt\n",
    "from collections import Counter\n",
    "from code_base.functions import train, train_models, select_best_model, evaluate_performance\n",
    "from code_base.models import TestNet, LeNetVariant, ObjectDetect_2x3\n",
    "from code_base.DataAnalysis import DataAnalysis\n",
    "from code_base.object_detection import plot_instances, get_converted_data"
   ]
  },
  {
   "cell_type": "code",
   "execution_count": null,
   "metadata": {},
   "outputs": [],
   "source": [
    "SEED = 265\n",
    "torch.manual_seed(SEED)\n",
    "\n",
    "DEVICE = (torch.device('cuda') if torch.cuda.is_available() else torch.device('cpu'))\n",
    "print(f\"Using device: {DEVICE}\")"
   ]
  },
  {
   "cell_type": "markdown",
   "metadata": {},
   "source": [
    "## Data exploration"
   ]
  },
  {
   "cell_type": "code",
   "execution_count": null,
   "metadata": {},
   "outputs": [],
   "source": [
    "grid_dimensions = (2,3)"
   ]
  },
  {
   "cell_type": "code",
   "execution_count": null,
   "metadata": {},
   "outputs": [],
   "source": [
    "object_train, object_val, object_test = get_converted_data(grid_dimensions=grid_dimensions) "
   ]
  },
  {
   "cell_type": "code",
   "execution_count": null,
   "metadata": {},
   "outputs": [],
   "source": [
    "plot_instances(object_train, 4, grid_dimensions=grid_dimensions)"
   ]
  },
  {
   "cell_type": "markdown",
   "metadata": {},
   "source": [
    "## Training"
   ]
  },
  {
   "cell_type": "code",
   "execution_count": null,
   "metadata": {},
   "outputs": [],
   "source": [
    "# Normalize from training data\n",
    "imgs = torch.stack([img for img, _ in object_train])\n",
    "\n",
    "# Define normalizer\n",
    "normalizer = transforms.Normalize(\n",
    "    imgs.mean(dim=(0, 2, 3)), \n",
    "    imgs.std(dim=(0, 2, 3))\n",
    "    )\n",
    "\n",
    "object_train_norm = [(normalizer(img), label) for img, label in object_train]\n",
    "object_val_norm = [(normalizer(img), label) for img, label in object_val]\n",
    "object_test_norm = [(normalizer(img), label) for img, label in object_test]"
   ]
  },
  {
   "cell_type": "code",
   "execution_count": null,
   "metadata": {},
   "outputs": [],
   "source": [
    "batch_size = 32\n",
    "train_loader = DataLoader(object_train_norm, batch_size=batch_size, shuffle=False)\n",
    "val_loader = DataLoader(object_val_norm, batch_size=batch_size, shuffle=False)"
   ]
  },
  {
   "cell_type": "code",
   "execution_count": null,
   "metadata": {},
   "outputs": [],
   "source": [
    "epochs = 5\n",
    "networks = [ObjectDetect_2x3]\n",
    "\n",
    "hyper_parameters = [\n",
    "    {\"lr\": 0.001, \"weight_decay\": 0.0, \"momentum\": 0.0},\n",
    "    # {\"lr\": 0.01, \"weight_decay\": 0.01, \"momentum\": 0.0},\n",
    "    # {\"lr\": 0.01, \"weight_decay\": 0.9, \"momentum\": 0.0},\n",
    "]"
   ]
  },
  {
   "cell_type": "code",
   "execution_count": null,
   "metadata": {},
   "outputs": [],
   "source": [
    "trained_models, train_performances, val_performances, train_losses, val_losses = train_models(\n",
    "    \"detection\",\n",
    "    networks,\n",
    "    hyper_parameters,\n",
    "    batch_size,\n",
    "    epochs,\n",
    "    train_loader,\n",
    "    val_loader,\n",
    "    DEVICE,\n",
    "    SEED)"
   ]
  }
 ],
 "metadata": {
  "kernelspec": {
   "display_name": "Python 3 (ipykernel)",
   "language": "python",
   "name": "python3"
  },
  "language_info": {
   "codemirror_mode": {
    "name": "ipython",
    "version": 3
   },
   "file_extension": ".py",
   "mimetype": "text/x-python",
   "name": "python",
   "nbconvert_exporter": "python",
   "pygments_lexer": "ipython3",
   "version": "3.10.12"
  }
 },
 "nbformat": 4,
 "nbformat_minor": 4
}
