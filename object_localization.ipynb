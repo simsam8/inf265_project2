{
 "cells": [
  {
   "cell_type": "code",
   "execution_count": null,
   "metadata": {},
   "outputs": [],
   "source": [
    "import numpy as np\n",
    "import torch\n",
    "import torch.nn as nn\n",
    "import torch.optim as optim\n",
    "import torchvision\n",
    "from torch.utils.data import DataLoader\n",
    "from torchvision import datasets, transforms\n",
    "from torchsummary import summary  # Denne er fin for å printe ut informasjon om PyTorch-modeller\n",
    "import matplotlib.pyplot as plt\n",
    "from collections import Counter\n",
    "from code_base.functions import train, custom_loss\n",
    "from code_base.models import TestNet\n",
    "from code_base.DataAnalysis import DataAnalysis"
   ]
  },
  {
   "cell_type": "code",
   "execution_count": null,
   "metadata": {},
   "outputs": [],
   "source": [
    "# Loading the data as PyTorch Tensor Dataset\n",
    "data_train = torch.load(\"data/localization_train.pt\")\n",
    "data_val = torch.load(\"data/localization_val.pt\")\n",
    "data_test = torch.load(\"data/localization_test.pt\")\n",
    "print(\"Type: \", type(data_train))"
   ]
  },
  {
   "cell_type": "code",
   "execution_count": null,
   "metadata": {},
   "outputs": [],
   "source": [
    "DataAnalysis.get_summary(data_train)"
   ]
  },
  {
   "cell_type": "code",
   "execution_count": null,
   "metadata": {},
   "outputs": [],
   "source": [
    "DataAnalysis.get_summary(data_val)"
   ]
  },
  {
   "cell_type": "code",
   "execution_count": null,
   "metadata": {},
   "outputs": [],
   "source": [
    "DataAnalysis.get_summary(data_test)"
   ]
  },
  {
   "cell_type": "code",
   "execution_count": null,
   "metadata": {},
   "outputs": [],
   "source": [
    "# Display 4 instances of each class\n",
    "n_classes = len(Counter([int(label[-1]) for _, label in data_train]))\n",
    "for i in range(n_classes):\n",
    "    # DataAnalysis.plot_instances_with_bounding_box(data_train, i, n_instances=4)\n",
    "    DataAnalysis.plot_instances_with_bounding_box(data_train, i, n_instances=4)\n",
    "# No class\n",
    "DataAnalysis.plot_instances_with_bounding_box(data_train, None, n_instances=4)"
   ]
  },
  {
   "cell_type": "code",
   "execution_count": null,
   "metadata": {},
   "outputs": [],
   "source": [
    "batch_size = 512\n",
    "train_loader = DataLoader(data_train, batch_size=batch_size, shuffle=False)\n",
    "val_loader = DataLoader(data_val, batch_size=batch_size, shuffle=False)"
   ]
  },
  {
   "cell_type": "code",
   "execution_count": null,
   "metadata": {},
   "outputs": [],
   "source": [
    "device = torch.device(\"cuda\") if torch.cuda.is_available() else torch.device(\"cpu\")\n",
    "print(f\"Using device: {device}\")"
   ]
  },
  {
   "cell_type": "code",
   "execution_count": null,
   "metadata": {},
   "outputs": [],
   "source": [
    "# Temporary code for testing train function\n",
    "model = TestNet()\n",
    "model.to(device)\n",
    "\n",
    "learning_rate = 0.01\n",
    "\n",
    "optimizer = optim.SGD(model.parameters(), lr=learning_rate)"
   ]
  },
  {
   "cell_type": "code",
   "execution_count": null,
   "metadata": {},
   "outputs": [],
   "source": [
    "train_loss, val_loss, train_performance, val_performance = train(30, optimizer, model, custom_loss, train_loader, val_loader, device)"
   ]
  },
  {
   "cell_type": "code",
   "execution_count": null,
   "metadata": {},
   "outputs": [],
   "source": [
    "DataAnalysis.plot_performance_over_time(train_loss, val_loss, \"Training vs val loss\")"
   ]
  },
  {
   "cell_type": "code",
   "execution_count": null,
   "metadata": {},
   "outputs": [],
   "source": [
    "DataAnalysis.plot_performance_over_time(train_performance, val_performance, \"Training accuracy and validation accuracy over epochs\", \n",
    "                               label1=\"Training Accuracy\", label2=\"Validation Accuracy\")"
   ]
  }
 ],
 "metadata": {
  "kernelspec": {
   "display_name": "Python 3 (ipykernel)",
   "language": "python",
   "name": "python3"
  },
  "language_info": {
   "codemirror_mode": {
    "name": "ipython",
    "version": 3
   },
   "file_extension": ".py",
   "mimetype": "text/x-python",
   "name": "python",
   "nbconvert_exporter": "python",
   "pygments_lexer": "ipython3",
   "version": "3.10.12"
  }
 },
 "nbformat": 4,
 "nbformat_minor": 4
}
