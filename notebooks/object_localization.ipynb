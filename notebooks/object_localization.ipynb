{
 "cells": [
  {
   "cell_type": "code",
   "execution_count": null,
   "metadata": {},
   "outputs": [],
   "source": [
    "import os\n",
    "os.chdir(\"../\")"
   ]
  },
  {
   "cell_type": "code",
   "execution_count": null,
   "metadata": {},
   "outputs": [],
   "source": [
    "import torch\n",
    "from torch.utils.data import DataLoader\n",
    "from torchvision import transforms\n",
    "from collections import Counter\n",
    "from code_base.functions import train, train_models, select_best_model, evaluate_performance\n",
    "from code_base.models import TestNet, LeNetVariant\n",
    "from code_base.DataAnalysis import DataAnalysis"
   ]
  },
  {
   "cell_type": "code",
   "execution_count": null,
   "metadata": {},
   "outputs": [],
   "source": [
    "SEED = 265\n",
    "torch.manual_seed(SEED)\n",
    "\n",
    "DEVICE = (torch.device('cuda') if torch.cuda.is_available() else torch.device('cpu'))\n",
    "print(f\"Using device: {DEVICE}\")"
   ]
  },
  {
   "cell_type": "markdown",
   "metadata": {},
   "source": [
    "# Object Localization"
   ]
  },
  {
   "cell_type": "markdown",
   "metadata": {},
   "source": [
    "## Data exploration"
   ]
  },
  {
   "cell_type": "code",
   "execution_count": null,
   "metadata": {},
   "outputs": [],
   "source": [
    "# Loading the data as PyTorch Tensor Dataset\n",
    "data_train = torch.load(\"data/localization_train.pt\")\n",
    "data_val = torch.load(\"data/localization_val.pt\")\n",
    "data_test = torch.load(\"data/localization_test.pt\")\n",
    "print(\"Type: \", type(data_train))"
   ]
  },
  {
   "cell_type": "code",
   "execution_count": null,
   "metadata": {},
   "outputs": [],
   "source": [
    "DataAnalysis.get_summary(data_train)"
   ]
  },
  {
   "cell_type": "code",
   "execution_count": null,
   "metadata": {},
   "outputs": [],
   "source": [
    "DataAnalysis.get_summary(data_val)"
   ]
  },
  {
   "cell_type": "code",
   "execution_count": null,
   "metadata": {},
   "outputs": [],
   "source": [
    "DataAnalysis.get_summary(data_test)"
   ]
  },
  {
   "cell_type": "code",
   "execution_count": null,
   "metadata": {},
   "outputs": [],
   "source": [
    "# Display 4 instances of each class\n",
    "n_classes = len(Counter([int(label[-1]) for _, label in data_train]))\n",
    "for i in range(n_classes):\n",
    "    DataAnalysis.plot_instances_with_bounding_box(data_train, i, n_instances=4, save_to_file=f\"imgs/localization/true_instances/class_{i}.png\")\n",
    "# No class\n",
    "DataAnalysis.plot_instances_with_bounding_box(data_train, None, n_instances=4, save_to_file=\"imgs/localization/true_instances/class_none.png\")"
   ]
  },
  {
   "cell_type": "markdown",
   "metadata": {},
   "source": [
    "## Training"
   ]
  },
  {
   "cell_type": "code",
   "execution_count": null,
   "metadata": {},
   "outputs": [],
   "source": [
    "# Normalize from training data\n",
    "imgs = torch.stack([img for img, _ in data_train])\n",
    "\n",
    "# Define normalizer\n",
    "normalizer = transforms.Normalize(\n",
    "    imgs.mean(dim=(0, 2, 3)), \n",
    "    imgs.std(dim=(0, 2, 3))\n",
    "    )\n",
    "\n",
    "data_train_norm = [(normalizer(img), label) for img, label in data_train]\n",
    "data_val_norm = [(normalizer(img), label) for img, label in data_val]\n",
    "data_test_norm = [(normalizer(img), label) for img, label in data_test]"
   ]
  },
  {
   "cell_type": "code",
   "execution_count": null,
   "metadata": {},
   "outputs": [],
   "source": [
    "batch_size = 32\n",
    "train_loader = DataLoader(data_train_norm, batch_size=batch_size, shuffle=False)\n",
    "val_loader = DataLoader(data_val_norm, batch_size=batch_size, shuffle=False)"
   ]
  },
  {
   "cell_type": "code",
   "execution_count": null,
   "metadata": {},
   "outputs": [],
   "source": [
    "epochs = 5\n",
    "networks = [TestNet, LeNetVariant]\n",
    "\n",
    "hyper_parameters = [\n",
    "    {\"lr\": 0.001, \"weight_decay\": 0.0},#, \"momentum\": 0.0},\n",
    "    {\"lr\": 0.001, \"weight_decay\": 0.5}\n",
    "    # {\"lr\": 0.01, \"weight_decay\": 0.01, \"momentum\": 0.0},\n",
    "    # {\"lr\": 0.01, \"weight_decay\": 0.9, \"momentum\": 0.0},\n",
    "]"
   ]
  },
  {
   "cell_type": "code",
   "execution_count": null,
   "metadata": {},
   "outputs": [],
   "source": [
    "results = train_models(\n",
    "    \"localization\",\n",
    "    networks,\n",
    "    hyper_parameters,\n",
    "    batch_size,\n",
    "    epochs,\n",
    "    train_loader,\n",
    "    val_loader,\n",
    "    DEVICE,\n",
    "    SEED)"
   ]
  },
  {
   "cell_type": "code",
   "execution_count": null,
   "metadata": {},
   "outputs": [],
   "source": [
    "best_model, best_model_idx = select_best_model(results[\"models\"], results[\"strict_val\"])\n",
    "print(best_model)"
   ]
  },
  {
   "cell_type": "code",
   "execution_count": null,
   "metadata": {},
   "outputs": [],
   "source": [
    "bm_hyper_params = results[\"hyper_params\"][best_model_idx]\n",
    "bm_train_loss = results[\"loss_train\"][best_model_idx]\n",
    "bm_val_loss = results[\"loss_val\"][best_model_idx]\n",
    "bm_train_strict_acc = results[\"strict_train\"][best_model_idx]\n",
    "bm_val_strict_acc = results[\"strict_val\"][best_model_idx]\n",
    "bm_train_box_acc = results[\"box_train\"][best_model_idx]\n",
    "bm_val_box_acc = results[\"box_val\"][best_model_idx]\n",
    "bm_train_detect_acc = results[\"detection_train\"][best_model_idx]\n",
    "bm_val_detect_acc = results[\"detection_val\"][best_model_idx]\n",
    "bm_train_mean_acc = results[\"mean_perf_train\"][best_model_idx]\n",
    "bm_val_mean_acc = results[\"mean_perf_val\"][best_model_idx]"
   ]
  },
  {
   "cell_type": "code",
   "execution_count": null,
   "metadata": {},
   "outputs": [],
   "source": [
    "# Hyper parameters\n",
    "print(\"Selected hyper parameters\")\n",
    "print(bm_hyper_params)\n",
    "\n",
    "# Loss\n",
    "DataAnalysis.plot_performance_over_time(bm_train_loss, bm_val_loss, \"Training and val loss\", y_label=\"Loss\",\n",
    "                                        save_to_file=\"imgs/localization/performance/loss.png\")\n",
    "\n",
    "# Strict accuracy\n",
    "DataAnalysis.plot_performance_over_time(bm_train_strict_acc, bm_val_strict_acc, \"Training and validation strict accuracy over epochs\", y_label=\"Strict Accuracy\",\n",
    "                                        save_to_file=\"imgs/localization/performance/strict.png\") \n",
    "\n",
    "# Box accuracy\n",
    "DataAnalysis.plot_performance_over_time(bm_train_box_acc, bm_val_box_acc, \"Training and validation box accuracy over epochs\", y_label=\"Box Accuracy\",\n",
    "                                        save_to_file=\"imgs/localization/performance/box.png\") \n",
    "# Detection accuracy\n",
    "DataAnalysis.plot_performance_over_time(bm_train_detect_acc, bm_val_detect_acc, \"Training and validation detection accuracy over epochs\", y_label=\"Detection Accuracy\",\n",
    "                                        save_to_file=\"imgs/localization/performance/detection.png\")\n",
    "# Mean accuracy\n",
    "DataAnalysis.plot_performance_over_time(bm_train_mean_acc, bm_val_mean_acc, \"Training and validation mean accuracy over epochs\", y_label=\"Mean Accuracy\",\n",
    "                                        save_to_file=\"imgs/localization/performance/mean.png\")"
   ]
  },
  {
   "cell_type": "markdown",
   "metadata": {},
   "source": [
    "## Evaluation"
   ]
  },
  {
   "cell_type": "code",
   "execution_count": null,
   "metadata": {},
   "outputs": [],
   "source": [
    "test_loader = DataLoader(data_test_norm, batch_size=batch_size, shuffle=False)\n",
    "\n",
    "perf, output = evaluate_performance(\"localization\", best_model, test_loader, device=DEVICE)\n",
    "print(\"--- Test performances ---\")\n",
    "print(f\"Strict performance: {perf['strict']*100:.2f}%\")\n",
    "print(f\"Box performance: {perf['box']*100:.2f}%\")\n",
    "print(f\"Detection performance: {perf['detection']*100:.2f}%\")\n",
    "print(f\"Mean performance: {perf['mean']*100:.2f}%\")"
   ]
  },
  {
   "cell_type": "code",
   "execution_count": null,
   "metadata": {},
   "outputs": [],
   "source": [
    "for i in range(10):\n",
    "    DataAnalysis.plot_instances_with_bounding_box(data_test, i, predictions=output, save_to_file=f\"imgs/localization/predictions/class_{i}.png\")\n",
    "DataAnalysis.plot_instances_with_bounding_box(data_test, None, predictions=output, save_to_file=\"imgs/localization/predictions/class_none.png\")"
   ]
  }
 ],
 "metadata": {
  "kernelspec": {
   "display_name": "Python 3 (ipykernel)",
   "language": "python",
   "name": "python3"
  },
  "language_info": {
   "codemirror_mode": {
    "name": "ipython",
    "version": 3
   },
   "file_extension": ".py",
   "mimetype": "text/x-python",
   "name": "python",
   "nbconvert_exporter": "python",
   "pygments_lexer": "ipython3",
   "version": "3.10.12"
  }
 },
 "nbformat": 4,
 "nbformat_minor": 4
}
