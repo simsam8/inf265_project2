{
 "cells": [
  {
   "cell_type": "code",
   "execution_count": null,
   "metadata": {},
   "outputs": [],
   "source": [
    "import numpy as np\n",
    "import torch\n",
    "import torch.nn as nn\n",
    "import torch.optim as optim\n",
    "import torchvision\n",
    "from torchvision import datasets, transforms\n",
    "from torchsummary import summary  # Denne er fin for å printe ut informasjon om PyTorch-modeller"
   ]
  },
  {
   "cell_type": "code",
   "execution_count": null,
   "metadata": {},
   "outputs": [],
   "source": [
    "# Loading the data as PyTorch Tensor Dataset\n",
    "data_train = torch.load(\"data\\localization_train.pt\")\n",
    "data_val = torch.load(\"data\\localization_val.pt\")\n",
    "data_test = torch.load(\"data\\localization_test.pt\")\n",
    "print(\"Type: \", type(data_train))"
   ]
  },
  {
   "cell_type": "code",
   "execution_count": null,
   "metadata": {},
   "outputs": [],
   "source": [
    "# Convert data to PyTorch Tensors\n",
    "train_imgs = torch.stack([img for img, label in data_train])\n",
    "val_imgs = torch.stack([img for img, label in data_val])\n",
    "test_imgs = torch.stack([img for img, label in data_test])\n",
    "print(type(train_imgs[0]))\n",
    "\n",
    "print(\"Size: \", train_imgs.size())"
   ]
  }
 ],
 "metadata": {
  "kernelspec": {
   "display_name": "venv",
   "language": "python",
   "name": "python3"
  },
  "language_info": {
   "codemirror_mode": {
    "name": "ipython",
    "version": 3
   },
   "file_extension": ".py",
   "mimetype": "text/x-python",
   "name": "python",
   "nbconvert_exporter": "python",
   "pygments_lexer": "ipython3",
   "version": "3.11.4"
  }
 },
 "nbformat": 4,
 "nbformat_minor": 2
}
